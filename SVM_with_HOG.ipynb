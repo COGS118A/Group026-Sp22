{
  "nbformat": 4,
  "nbformat_minor": 0,
  "metadata": {
    "colab": {
      "name": "SVM_with_HOG.ipynb",
      "provenance": [],
      "collapsed_sections": [],
      "mount_file_id": "16s-Sf0LD1fusvUAnMgEo0q-fFj8X8OJc",
      "authorship_tag": "ABX9TyMKsHFlQTquKJy4XWzAcw+/",
      "include_colab_link": true
    },
    "kernelspec": {
      "name": "python3",
      "display_name": "Python 3"
    },
    "language_info": {
      "name": "python"
    },
    "accelerator": "GPU"
  },
  "cells": [
    {
      "cell_type": "markdown",
      "metadata": {
        "id": "view-in-github",
        "colab_type": "text"
      },
      "source": [
        "<a href=\"https://colab.research.google.com/github/COGS118A/Group026-Sp22/blob/main/SVM_with_HOG.ipynb\" target=\"_parent\"><img src=\"https://colab.research.google.com/assets/colab-badge.svg\" alt=\"Open In Colab\"/></a>"
      ]
    },
    {
      "cell_type": "markdown",
      "source": [
        "#Import the data"
      ],
      "metadata": {
        "id": "ieUcTDg9S3XG"
      }
    },
    {
      "cell_type": "code",
      "source": [
        "from google.colab import drive\n",
        "drive.mount('/content/gdrive')"
      ],
      "metadata": {
        "colab": {
          "base_uri": "https://localhost:8080/"
        },
        "id": "nYUKLHUEL-qE",
        "outputId": "fab1df19-4fdb-4f4f-8cac-d92bd43a2fc2"
      },
      "execution_count": 1,
      "outputs": [
        {
          "output_type": "stream",
          "name": "stdout",
          "text": [
            "Mounted at /content/gdrive\n"
          ]
        }
      ]
    },
    {
      "cell_type": "code",
      "execution_count": 2,
      "metadata": {
        "colab": {
          "base_uri": "https://localhost:8080/"
        },
        "id": "dFDpJvQ3Ekyl",
        "outputId": "06ec918d-1b76-4631-e509-f22bdcee9caa"
      },
      "outputs": [
        {
          "output_type": "stream",
          "name": "stdout",
          "text": [
            "--2022-06-08 04:25:38--  http://vision.stanford.edu/aditya86/ImageNetDogs/images.tar\n",
            "Resolving vision.stanford.edu (vision.stanford.edu)... 171.64.68.10\n",
            "Connecting to vision.stanford.edu (vision.stanford.edu)|171.64.68.10|:80... connected.\n",
            "HTTP request sent, awaiting response... 200 OK\n",
            "Length: 793579520 (757M) [application/x-tar]\n",
            "Saving to: ‘images.tar’\n",
            "\n",
            "images.tar          100%[===================>] 756.82M  38.1MB/s    in 21s     \n",
            "\n",
            "2022-06-08 04:26:00 (35.8 MB/s) - ‘images.tar’ saved [793579520/793579520]\n",
            "\n",
            "--2022-06-08 04:26:00--  http://vision.stanford.edu/aditya86/ImageNetDogs/annotation.tar\n",
            "Resolving vision.stanford.edu (vision.stanford.edu)... 171.64.68.10\n",
            "Connecting to vision.stanford.edu (vision.stanford.edu)|171.64.68.10|:80... connected.\n",
            "HTTP request sent, awaiting response... 200 OK\n",
            "Length: 21852160 (21M) [application/x-tar]\n",
            "Saving to: ‘annotation.tar’\n",
            "\n",
            "annotation.tar      100%[===================>]  20.84M  13.5MB/s    in 1.5s    \n",
            "\n",
            "2022-06-08 04:26:02 (13.5 MB/s) - ‘annotation.tar’ saved [21852160/21852160]\n",
            "\n"
          ]
        }
      ],
      "source": [
        "# Data import\n",
        "!wget http://vision.stanford.edu/aditya86/ImageNetDogs/images.tar\n",
        "!wget http://vision.stanford.edu/aditya86/ImageNetDogs/annotation.tar"
      ]
    },
    {
      "cell_type": "code",
      "source": [
        "#!tar -xvf annotation.tar"
      ],
      "metadata": {
        "id": "NoKcrJ7FNLBz"
      },
      "execution_count": 3,
      "outputs": []
    },
    {
      "cell_type": "code",
      "source": [
        "!mv annotation.tar '/content/gdrive/MyDrive/cogs118a'\n",
        "!mv images.tar '/content/gdrive/MyDrive/cogs118a'"
      ],
      "metadata": {
        "id": "MSoaL9_ANmHd"
      },
      "execution_count": 4,
      "outputs": []
    },
    {
      "cell_type": "code",
      "source": [
        "!cd '/content/gdrive/MyDrive/cogs118a/'"
      ],
      "metadata": {
        "id": "mY_yvF5QMk0a"
      },
      "execution_count": 5,
      "outputs": []
    },
    {
      "cell_type": "code",
      "source": [
        "import os\n",
        "os.chdir('/content/gdrive/MyDrive/cogs118a/')"
      ],
      "metadata": {
        "id": "O1WEgtmULcT3"
      },
      "execution_count": 6,
      "outputs": []
    },
    {
      "cell_type": "code",
      "source": [
        "#!tar -xvf images.tar"
      ],
      "metadata": {
        "id": "sCOliUT4OXd2"
      },
      "execution_count": 7,
      "outputs": []
    },
    {
      "cell_type": "code",
      "source": [
        "# import tarfile\n",
        "# import csv\n",
        "# import io\n",
        "\n",
        "# Images= tarfile.open('images.tar',\"w\")"
      ],
      "metadata": {
        "id": "Iki2ivSSHjhO"
      },
      "execution_count": 8,
      "outputs": []
    },
    {
      "cell_type": "markdown",
      "source": [
        "#Preprocess the data"
      ],
      "metadata": {
        "id": "YhpswrC_S0T5"
      }
    },
    {
      "cell_type": "code",
      "source": [
        "import numpy as np\n",
        "import pandas as pd\n",
        "import matplotlib.pyplot as plt\n",
        "from sklearn.model_selection import train_test_split\n",
        "%matplotlib inline\n",
        "import cv2\n",
        "import os\n",
        "from pathlib import Path\n",
        "from tqdm import tqdm\n"
      ],
      "metadata": {
        "id": "-MNnP1X8E2G4"
      },
      "execution_count": 9,
      "outputs": []
    },
    {
      "cell_type": "code",
      "source": [
        "directory = str(Path.cwd())\n",
        "\n",
        "all_img_dir = [i for i in os.listdir(directory+'/Images') if 'n0' in i]\n",
        "Name = []\n",
        "for file in all_img_dir: \n",
        "    name = file.split('-')[-1]\n",
        "    Name += [name]"
      ],
      "metadata": {
        "id": "C1VptiIWFdRs"
      },
      "execution_count": 10,
      "outputs": []
    },
    {
      "cell_type": "code",
      "source": [
        "def search_boundary(bd_path):\n",
        "    with open(bd_path, 'r') as f:\n",
        "        content = f.read()\n",
        "        bds = []\n",
        "        \n",
        "        axes = ['xmin', 'xmax', 'ymin', 'ymax']\n",
        "        for ax in axes:\n",
        "            start = content.find('<'+ax+'>') +6\n",
        "            end = content.find('</'+ax+'>')    \n",
        "            \n",
        "            bd = int(content[start:end])\n",
        "            bds.append(bd) \n",
        "\n",
        "        \n",
        "    return bds[0], bds[1], bds[2], bds[3]"
      ],
      "metadata": {
        "id": "ZUD5yj52Gzoy"
      },
      "execution_count": 11,
      "outputs": []
    },
    {
      "cell_type": "code",
      "source": [
        "def target_locator(img, xmin, xmax, ymin, ymax):\n",
        "    if len(img.shape) == 3:\n",
        "        image = img[ymin:ymax, xmin:xmax, :]\n",
        "    else:\n",
        "        image = img[ymin:ymax, xmin:xmax]\n",
        "        \n",
        "    return image"
      ],
      "metadata": {
        "id": "02btVoA0PZxI"
      },
      "execution_count": 12,
      "outputs": []
    },
    {
      "cell_type": "code",
      "source": [
        "def load_image(N=len(Name), dsize=(128, 128)):\n",
        "    train_data = [] #np.array([])\n",
        "    test_data = [] #np.array([])\n",
        "    train_label = [] #np.array([]) \n",
        "    test_label = [] #np.array([])\n",
        "\n",
        "    for i in tqdm(range(N)): #len(Name)\n",
        "        \n",
        "        img_dir = os.path.join(directory+'/Images', all_img_dir[i])\n",
        "        bd_dir = os.path.join(directory+'/Annotation', all_img_dir[i])\n",
        "        \n",
        "        n = len(os.listdir(img_dir))\n",
        "        t = 0\n",
        "        \n",
        "        for im in os.listdir(img_dir):\n",
        "            \n",
        "            img_path = os.path.join(img_dir+'/', im)\n",
        "            bd_path = os.path.join(bd_dir+'/', im[:-4])\n",
        "            \n",
        "            # Default is to read img in RGB scale\n",
        "            img = np.flip(cv2.imread(img_path), #if grayscale: cv2.IMREAD_GRAYSCALE\n",
        "                            axis=-1) \n",
        "            \n",
        "            xmin, xmax, ymin, ymax = search_boundary(bd_path)\n",
        "            image = target_locator(img, xmin, xmax, ymin, ymax)\n",
        "    \n",
        "            # skip faulty images\n",
        "            if not np.any(image):\n",
        "                t+=1\n",
        "                continue\n",
        "            \n",
        "            image = cv2.resize(image, dsize=dsize)            \n",
        "            image = image/255.0\n",
        "            \n",
        "            if t <= np.floor(n*0.8):\n",
        "                train_data.append(image)\n",
        "                train_label.append(Name[i])          \n",
        "            else:\n",
        "                test_data.append(image)\n",
        "                test_label.append(Name[i])\n",
        "        \n",
        "            t+=1\n",
        "    \n",
        "    return train_data, test_data, train_label, test_label"
      ],
      "metadata": {
        "id": "vq0BJ4OePcYT"
      },
      "execution_count": 13,
      "outputs": []
    },
    {
      "cell_type": "code",
      "source": [
        "n_class = 10\n",
        "# rescale the data to 64*128 size\n",
        "train_data, test_data, train_label, test_label = load_image(N=n_class, dsize=(64,128))"
      ],
      "metadata": {
        "colab": {
          "base_uri": "https://localhost:8080/"
        },
        "id": "fsCOg-_mPmD5",
        "outputId": "428bd221-df2e-43c3-b32f-89772bd6ad94"
      },
      "execution_count": 14,
      "outputs": [
        {
          "output_type": "stream",
          "name": "stderr",
          "text": [
            "100%|██████████| 10/10 [07:50<00:00, 47.04s/it]\n"
          ]
        }
      ]
    },
    {
      "cell_type": "code",
      "source": [
        "x_train = np.array(train_data)\n",
        "x_test = np.array(test_data)\n",
        "\n",
        "train_label = np.array(train_label)\n",
        "test_label = np.array(test_label)\n",
        "\n",
        "X_train = x_train.flatten().reshape(x_train.shape[0], -1)\n",
        "X_test = x_test.flatten().reshape(x_test.shape[0], -1)\n",
        "\n",
        "train_df = pd.DataFrame(X_train)\n",
        "train_df['label'] = train_label\n",
        "\n",
        "test_df = pd.DataFrame(X_test)\n",
        "test_df['label'] = test_label"
      ],
      "metadata": {
        "id": "yyqNydNKbfVz"
      },
      "execution_count": 15,
      "outputs": []
    },
    {
      "cell_type": "code",
      "source": [
        "from skimage.feature import hog\n",
        "from skimage import data, exposure"
      ],
      "metadata": {
        "id": "EDiGYAcFPp6h"
      },
      "execution_count": 16,
      "outputs": []
    },
    {
      "cell_type": "markdown",
      "source": [
        "#Use HOG as kernel for SVM modeling"
      ],
      "metadata": {
        "id": "aD6LHnbh5xRN"
      }
    },
    {
      "cell_type": "code",
      "source": [
        "X_train = train_df.iloc[:,:-1].values\n",
        "y_train = train_df['label'].values\n",
        "\n",
        "X_test = test_df.iloc[:,:-1].values\n",
        "y_test = test_df['label'].values"
      ],
      "metadata": {
        "id": "3yrxHmBehVhD"
      },
      "execution_count": 17,
      "outputs": []
    },
    {
      "cell_type": "code",
      "source": [
        "# transfer images to HOG form\n",
        "train_images = []\n",
        "train_features = []\n",
        "test_images = []\n",
        "test_features = []\n",
        "\n",
        "for image in train_data:\n",
        "  fd1, hog_image1 = hog(image, orientations=9, pixels_per_cell=(8, 8),\n",
        "                      cells_per_block=(2, 2), block_norm='L2', visualize=True, \n",
        "                      multichannel=True)\n",
        "  train_images.append(hog_image1)\n",
        "  train_features.append(fd1)\n",
        "\n",
        "for image in test_data:\n",
        "  fd2, hog_image2 = hog(image, orientations=9, pixels_per_cell=(8, 8),\n",
        "                      cells_per_block=(2, 2), block_norm='L2', visualize=True, \n",
        "                      multichannel=True)\n",
        "  test_images.append(hog_image2)\n",
        "  test_features.append(fd2)"
      ],
      "metadata": {
        "id": "l5NSBE_Hz7C1"
      },
      "execution_count": 18,
      "outputs": []
    },
    {
      "cell_type": "code",
      "source": [
        "# Visualize one of the HOG images\n",
        "fig, (ax1, ax2) = plt.subplots(1, 2, figsize=(8, 4), sharex=True, sharey=True)\n",
        "\n",
        "ax1.axis('off')\n",
        "ax1.imshow(train_data[6], cmap=plt.cm.gray)\n",
        "ax1.set_title('Original image')\n",
        "ax2.imshow(train_images[6], cmap=plt.cm.gray)\n",
        "ax2.set_title('HOG image')"
      ],
      "metadata": {
        "colab": {
          "base_uri": "https://localhost:8080/",
          "height": 299
        },
        "id": "AGaXEHIu1adV",
        "outputId": "1f1f2de4-d04f-461f-8f58-3d1b653b70ac"
      },
      "execution_count": 19,
      "outputs": [
        {
          "output_type": "execute_result",
          "data": {
            "text/plain": [
              "Text(0.5, 1.0, 'HOG image')"
            ]
          },
          "metadata": {},
          "execution_count": 19
        },
        {
          "output_type": "display_data",
          "data": {
            "text/plain": [
              "<Figure size 576x288 with 2 Axes>"
            ],
            "image/png": "[encoded data removed]"
          },
          "metadata": {
            "needs_background": "light"
          }
        }
      ]
    },
    {
      "cell_type": "code",
      "source": [
        "# change the format of label for svm\n",
        "train_label = np.array([Name.index(label) for label in train_label])\n",
        "test_label = np.array([Name.index(label) for label in test_label])\n",
        "\n",
        "train_labels =  np.array(train_label).reshape(len(train_label),1)\n",
        "test_labels = np.array(test_label).reshape(len(test_label), 1)"
      ],
      "metadata": {
        "id": "J_HwNu895BeY"
      },
      "execution_count": 20,
      "outputs": []
    },
    {
      "cell_type": "code",
      "source": [
        "from sklearn import svm\n",
        "from sklearn.metrics import accuracy_score, classification_report\n",
        "from sklearn.preprocessing import StandardScaler,LabelEncoder"
      ],
      "metadata": {
        "id": "9gTDI9MCFO8-"
      },
      "execution_count": 21,
      "outputs": []
    },
    {
      "cell_type": "code",
      "source": [
        "# fit in the svm classifier to the images\n",
        "clf = svm.SVC(C=10, kernel='rbf')\n",
        "train_features = np.array(train_features)\n",
        "train_frame = np.hstack((train_features,train_labels))\n",
        "np.random.shuffle(train_frame)\n",
        "test_festures = np.array(test_features)\n",
        "test_frame = np.hstack((test_features,test_labels))"
      ],
      "metadata": {
        "id": "V6QNyzuK9UI-"
      },
      "execution_count": 38,
      "outputs": []
    },
    {
      "cell_type": "code",
      "source": [
        "clf.fit(train_features, train_labels)"
      ],
      "metadata": {
        "colab": {
          "base_uri": "https://localhost:8080/"
        },
        "id": "j_1mSJBWmsif",
        "outputId": "566cec9d-8923-49ba-ac47-a10893ab7a6d"
      },
      "execution_count": 39,
      "outputs": [
        {
          "output_type": "stream",
          "name": "stderr",
          "text": [
            "/usr/local/lib/python3.7/dist-packages/sklearn/utils/validation.py:993: DataConversionWarning: A column-vector y was passed when a 1d array was expected. Please change the shape of y to (n_samples, ), for example using ravel().\n",
            "  y = column_or_1d(y, warn=True)\n"
          ]
        },
        {
          "output_type": "execute_result",
          "data": {
            "text/plain": [
              "SVC(C=10)"
            ]
          },
          "metadata": {},
          "execution_count": 39
        }
      ]
    },
    {
      "cell_type": "code",
      "source": [
        "y_pred = clf.predict(test_features)"
      ],
      "metadata": {
        "id": "K1E567Hjm-RA"
      },
      "execution_count": 40,
      "outputs": []
    },
    {
      "cell_type": "code",
      "source": [
        "print(\"Accuracy: \"+str(accuracy_score(test_labels, y_pred)))\n",
        "print('\\n')\n",
        "print(classification_report(test_labels, y_pred))"
      ],
      "metadata": {
        "colab": {
          "base_uri": "https://localhost:8080/"
        },
        "id": "HCFN6XeinaSV",
        "outputId": "89eee479-616b-45b0-ce33-ae8e7cccdc6b"
      },
      "execution_count": 41,
      "outputs": [
        {
          "output_type": "stream",
          "name": "stdout",
          "text": [
            "Accuracy: 0.3726027397260274\n",
            "\n",
            "\n",
            "              precision    recall  f1-score   support\n",
            "\n",
            "           0       0.39      0.50      0.44        30\n",
            "           1       0.37      0.58      0.45        50\n",
            "           2       0.20      0.07      0.10        29\n",
            "           3       0.38      0.36      0.37        42\n",
            "           4       0.67      0.70      0.69        47\n",
            "           5       0.15      0.21      0.17        34\n",
            "           6       0.19      0.24      0.21        38\n",
            "           7       0.46      0.35      0.40        34\n",
            "           8       0.50      0.29      0.37        31\n",
            "           9       0.45      0.17      0.24        30\n",
            "\n",
            "    accuracy                           0.37       365\n",
            "   macro avg       0.38      0.35      0.34       365\n",
            "weighted avg       0.39      0.37      0.36       365\n",
            "\n"
          ]
        }
      ]
    }
  ]
}