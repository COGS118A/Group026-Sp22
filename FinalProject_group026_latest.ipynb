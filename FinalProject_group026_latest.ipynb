{
  "cells": [
    {
      "cell_type": "markdown",
      "metadata": {
        "id": "view-in-github",
        "colab_type": "text"
      },
      "source": [
        "<a href=\"https://colab.research.google.com/github/COGS118A/Group026-Sp22/blob/main/%E2%80%9CFinalProject_group026_latest_ipynb%E2%80%9D.ipynb\" target=\"_parent\"><img src=\"https://colab.research.google.com/assets/colab-badge.svg\" alt=\"Open In Colab\"/></a>"
      ]
    },
    {
      "cell_type": "markdown",
      "metadata": {
        "id": "QUlVUCeg9Zlp"
      },
      "source": [
        "# COGS 118A - Final Project"
      ]
    },
    {
      "cell_type": "markdown",
      "metadata": {
        "id": "Foe5cdTU9Zlw"
      },
      "source": [
        "# Insert title here\n",
        "\n",
        "## Group members\n",
        "\n",
        "- Dylan Nelson (DN)\n",
        "- Mengyu Zhang (MY)\n",
        "- Shengjie Mao (SJ)\n",
        "- Yufei Deng (YD)"
      ]
    },
    {
      "cell_type": "markdown",
      "metadata": {
        "id": "_ZXmtR9l9Zly"
      },
      "source": [
        "# Abstract \n",
        "This section should be short and clearly stated. It should be a single paragraph <200 words.  It should summarize: \n",
        "- what your goal/problem is\n",
        "- what the data used represents \n",
        "- the solution/what you did\n",
        "- major results you came up with (mention how results are measured) \n",
        "\n",
        "__NB:__ this final project form is much more report-like than the proposal and the checkpoint. Think in terms of writing a paper with bits of code in the middle to make the plots/tables \n",
        "\n",
        "---\n",
        "This project is intended to design a machine learning algorithm that takes images of dogs and outputs their breed names accordingly. The dataset we will be using is adapted from the Stanford Dogs Dataset, which has a total of 20,580 individual dog images of 120 different breed categories. We plan on using Convolutional Neural Networks (CNN) for the image classification task. Before feeding input images into the neural nets, we will explore image transformation methods (e.g., image cropping/ resizing, converting to greyscale) to ensure the maximal performance of the CNN with the least amount of information required. The performance of models will be measured using the two metrics for classification: Accuracy and Area Under Curve (AUC). Lastly, we will apply data visualization tools such as TSNE to the classification results, which helps visualize the separability of the clusters of dog breeds."
      ]
    },
    {
      "cell_type": "markdown",
      "metadata": {
        "id": "ygcYR04T9Zlz"
      },
      "source": [
        "# Background\n",
        "\n",
        "Fill in the background and discuss the kind of prior work that has gone on in this research area here. **Use inline citation** to specify which references support which statements.  You can do that through HTML footnotes (demonstrated here). I used to reccommend Markdown footnotes (google is your friend) because they are simpler but recently I have had some problems with them working for me whereas HTML ones always work so far. So use the method that works for you, but do use inline citations.\n",
        "\n",
        "Here is an example of inline citation. After government genocide in the 20th century, real birds were replaced with surveillance drones designed to look just like birds<a name=\"lorenz\"></a>[<sup>[1]</sup>](#lorenznote). Use a minimum of 2 or 3 citations, but we prefer more <a name=\"admonish\"></a>[<sup>[2]</sup>](#admonishnote). You need enough citations to fully explain and back up important facts. \n",
        "\n",
        "Remeber you are trying to explain why someone would want to answer your question or why your hypothesis is in the form that you've stated. \n",
        "\n",
        "---\n",
        "Hunting continues to make many animal species extinct, and the governments are unable to do much except introducing some laws and conducting regular surveys. But conducting a survey is not an easy task, especially without the help of technology[1].\n",
        "\n",
        "Camera trap could help us with this, camera Trap is a camera that is automatically triggered bya change in some activity in its vicinity , like presence of an animal[2].\n",
        "\n",
        "In order for the camera trap to match the image with the animal in the wild, we would have to train the models with the animals pictures. We could start with the animal that we are most familiar with: dogs. With the results we get from analyzing the data of dogs, we might be able to find the most efficient way to categorize the images of other animals. Camera trap imaging (automatic photography of animal species in the wild) is becoming the gold standard in biodiversity conservation efforts. It allows for accurately monitoring large swaths of land at an unprecedented scale[3].\n",
        "\n",
        "Instead of sending people to the wild and do massive work, we can just train our model with existing pictures of the animals we want to capture and put cameras out there, we will be able to know the time, location and what kind of animals passed through. Also, this method could also help us in other way, “Cameras Designed To Find Rare Animals Could Catch Poachers Instead”[4]."
      ]
    },
    {
      "cell_type": "markdown",
      "metadata": {
        "id": "H0DfbSnk9Zlz"
      },
      "source": [
        "# Problem Statement\n",
        "\n",
        "Clearly describe the problem that you are solving. Avoid ambiguous words. The problem described should be well defined and should have at least one ML-relevant potential solution. Additionally, describe the problem thoroughly such that it is clear that the problem is quantifiable (the problem can be expressed in mathematical or logical terms), measurable (the problem can be measured by some metric and clearly observed), and replicable (the problem can be reproduced and occurs more than once).\n",
        "\n",
        "---\n",
        "We want to create a model that can detect different breeds of dogs from images. This could be readily applied in many ways: field research, live cameras, search engine classification, etc. From our background research, we saw not many models had promising results. We’d like to explore this ourselves, look at the problems we face along the way, and either improve them, or at strengthen our understanding of the limitations of ML methods.\n",
        "\n"
      ]
    },
    {
      "cell_type": "markdown",
      "metadata": {
        "id": "UcKcefeE9Zl0"
      },
      "source": [
        "# Data\n",
        "\n",
        "Detail how/where you obtained the data and cleaned it (if necessary)\n",
        "\n",
        "If the data cleaning process is very long (e.g., elaborate text processing) consider describing it briefly here in text, and moving the actual clearning process to another notebook in your repo (include a link here!).  The idea behind this approach: this is a report, and if you blow up the flow of the report to include a lot of code it makes it hard to read.\n",
        "\n",
        "Please give the following infomration for each dataset you are using\n",
        "- link/reference to obtain it\n",
        "- description of the size of the dataset (# of variables, # of observations)\n",
        "- what an observation consists of\n",
        "- what some critical variables are, how they are represented\n",
        "- any special handling, transformations, cleaning, etc you have done should be demonstrated here!\n"
      ]
    },
    {
      "cell_type": "markdown",
      "metadata": {
        "id": "rjeSEc5u9Zl5"
      },
      "source": [
        "# Proposed Solution\n",
        "\n",
        "In this section, clearly describe a solution to the problem. The solution should be applicable to the project domain and appropriate for the dataset(s) or input(s) given. Provide enough detail (e.g., algorithmic description and/or theoretical properties) to convince us that your solution is applicable. Make sure to describe how the solution will be tested.  \n",
        "\n",
        "If you know details already, describe how (e.g., library used, function calls) you plan to implement the solution in a way that is reproducible.\n",
        "\n",
        "If it is appropriate to the problem statement, describe a benchmark model<a name=\"sota\"></a>[<sup>[3]</sup>](#sotanote) against which your solution will be compared. "
      ]
    },
    {
      "cell_type": "markdown",
      "metadata": {
        "id": "ykch5qnq9Zl6"
      },
      "source": [
        "# Evaluation Metrics\n",
        "\n",
        "Propose at least one evaluation metric that can be used to quantify the performance of both the benchmark model and the solution model. The evaluation metric(s) you propose should be appropriate given the context of the data, the problem statement, and the intended solution. Describe how the evaluation metric(s) are derived and provide an example of their mathematical representations (if applicable). Complex evaluation metrics should be clearly defined and quantifiable (can be expressed in mathematical or logical terms)."
      ]
    },
    {
      "cell_type": "markdown",
      "metadata": {
        "id": "ZZ2FM8Tf9Zl7"
      },
      "source": [
        "# Results\n",
        "\n",
        "You may have done tons of work on this. Not all of it belongs here. \n",
        "\n",
        "Reports should have a __narrative__. Once you've looked through all your results over the quarter, decide on one main point and 2-4 secondary points you want us to understand. Include the detailed code and analysis results of those points only; you should spend more time/code/plots on your main point than the others.\n",
        "\n",
        "If you went down any blind alleys that you later decided to not pursue, please don't abuse the TAs time by throwing in 81 lines of code and 4 plots related to something you actually abandoned.  Consider deleting things that are not important to your narrative.  If its slightly relevant to the narrative or you just want us to know you tried something, you could keep it in by summarizing the result in this report in a sentence or two, moving the actual analysis to another file in your repo, and providing us a link to that file.\n",
        "\n",
        "### Subsection 1\n",
        "\n",
        "You will likely have different subsections as you go through your report. For instance you might start with an analysis of the dataset/problem and from there you might be able to draw out the kinds of algorithms that are / aren't appropriate to tackle the solution.  Or something else completely if this isn't the way your project works.\n",
        "\n",
        "### SVM model\n",
        "\n",
        "We believed that the SVM model is a proper baseline for us to start with. After doing the GridSearch, we found out that with the \"rbf\" kernel and a C equals to 10, the model's accuracy score performs the best. Rather than analyzing the raw data, we preprocessed the images with the Histogram of Oriented Gradient (HOG) to extract the important features [4]. <br>\n",
        "The best accuracy score we obtained was 37%, which is not that good for the model to predict the future data. We assumed that the complexity of the images and the tiny features of the dog characteristics. The images were not purely black or white backgrounds, which made it difficult for the computer to extract essential breed features. <br>\n",
        "Considering the long processing time and the relatively low accuracy score of the final result, we believed that other models, like CNN, can perform better estimations. <br>\n",
        "(Link to  full code: https://github.com/COGS118A/Group026-Sp22/blob/main/SVM_with_HOG.ipynb)\n",
        "\n",
        "### Subsection 3\n",
        "\n",
        "Probably you need to describe the base model and demonstrate its performance.  Maybe you include a learning curve to show whether you have enough data to do train/validate/test split or have to go to k-folds or LOOCV or ???\n",
        "\n",
        "### Subsection 4\n",
        "\n",
        "Perhaps some exploration of the model selection (hyper-parameters) or algorithm selection task. Validation curves, plots showing the variability of perfromance across folds of the cross-validation, etc. If you're doing one, the outcome of the null hypothesis test or parsimony principle check to show how you are selecting the best model.\n",
        "\n",
        "### Subsection 5 \n",
        "\n",
        "Maybe you do model selection again, but using a different kind of metric than before?\n",
        "\n"
      ]
    },
    {
      "cell_type": "markdown",
      "metadata": {
        "id": "9EPDhFD79Zl8"
      },
      "source": [
        "# Discussion\n",
        "\n",
        "### Interpreting the result\n",
        "\n",
        "OK, you've given us quite a bit of tech informaiton above, now its time to tell us what to pay attention to in all that.  Think clearly about your results, decide on one main point and 2-4 secondary points you want us to understand. Highlight HOW your results support those points.  You probably want 2-5 sentences per point.\n",
        "\n",
        "### Limitations\n",
        "\n",
        "Are there any problems with the work?  For instance would more data change the nature of the problem? Would it be good to explore more hyperparams than you had time for?   \n",
        "\n",
        "### Ethics & Privacy\n",
        "\n",
        "If your project has obvious potential concerns with ethics or data privacy discuss that here.  Almost every ML project put into production can have ethical implications if you use your imagination. Use your imagination.\n",
        "\n",
        "Even if you can't come up with an obvious ethical concern that should be addressed, you should know that a large number of ML projects that go into producation have unintended consequences and ethical problems once in production. How will your team address these issues?\n",
        "\n",
        "Consider a tool to help you address the potential issues such as https://deon.drivendata.org\n",
        "\n",
        "### Conclusion\n",
        "\n",
        "Reiterate your main point and in just a few sentences tell us how your results support it. Mention how this work would fit in the background/context of other work in this field if you can. Suggest directions for future work if you want to."
      ]
    },
    {
      "cell_type": "markdown",
      "metadata": {
        "id": "jmA9Kpq29Zl9"
      },
      "source": [
        "# Footnotes\n",
        "<a name=\"lorenznote\"></a>1.[^](#lorenz): Lorenz, T. (9 Dec 2021) Birds Aren’t Real, or Are They? Inside a Gen Z Conspiracy Theory. *The New York Times*. https://www.nytimes.com/2021/12/09/technology/birds-arent-real-gen-z-misinformation.html<br> \n",
        "<a name=\"admonishnote\"></a>2.[^](#admonish): Also refs should be important to the background, not some randomly chosen vaguely related stuff. Include a web link if possible in refs as above.<br>\n",
        "<a name=\"sotanote\"></a>3.[^](#sota): Perhaps the current state of the art solution such as you see on [Papers with code](https://paperswithcode.com/sota). Or maybe not SOTA, but rather a standard textbook/Kaggle solution to this kind of problem<br>\n",
        "<a name=\"sotanote\"></a>4.[^](#sota): HOG model https://scikit-image.org/docs/dev/auto_examples/features_detection/plot_hog.html?highlight=hog\n"
      ]
    },
    {
      "cell_type": "code",
      "execution_count": null,
      "metadata": {
        "id": "uBt3ZIzA9Zl9"
      },
      "outputs": [],
      "source": [
        ""
      ]
    }
  ],
  "metadata": {
    "kernelspec": {
      "display_name": "Python 3",
      "language": "python",
      "name": "python3"
    },
    "language_info": {
      "codemirror_mode": {
        "name": "ipython",
        "version": 3
      },
      "file_extension": ".py",
      "mimetype": "text/x-python",
      "name": "python",
      "nbconvert_exporter": "python",
      "pygments_lexer": "ipython3",
      "version": "3.8.8"
    },
    "colab": {
      "name": "“FinalProject_group026_latest.ipynb”",
      "provenance": [],
      "collapsed_sections": [],
      "include_colab_link": true
    }
  },
  "nbformat": 4,
  "nbformat_minor": 0
}
